{
 "cells": [
  {
   "cell_type": "markdown",
   "id": "660a32a6",
   "metadata": {},
   "source": [
    "## Primeiros passos com Análises espaciais em Python\n",
    "\n",
    "pacotes que vamos usar\n",
    "\n",
    "* Geopandas - combina as capacidades de análises que o Pandas oferece com  os pacotes shapely e fiona - voltados para gerenciamento de dados espaciais.\n",
    "\n",
    "**Observações:**\n",
    " > Diferença entre DataFrame e GeoDataFrame - no geodrataframe existe uma coluna com dados geométricos, que por padrão é chamada de \"geometry\". A mesma é uma GeoSeries que contêm dados geométricos (pontos, linhas, polígonos, multipolígonos, etc...) como objetos modelados."
   ]
  },
  {
   "cell_type": "markdown",
   "id": "852b1a19",
   "metadata": {},
   "source": [
    "### Shapefile\n",
    "\n",
    "Conjunto de arquivos que possibilitam a existência de um mapa atrelado a base de dados. \n",
    "\n",
    "Existem 3 tipos de dados vetoriais:\n",
    ">1° Pontos;\n",
    "\n",
    ">2° Linhas;\n",
    "\n",
    ">3° Polígonos.\n",
    "\n",
    "Dados geoespaiciais no formato de vetor em geral são armazenados em shapefile. Como as estruturas de pontos, linhas e polígonos são diferentes, um shapefile só pode ter um tipo de vetor.\n",
    "\n",
    "Um shapefile é criado por 3 ou mais arquivos **todos devem ter o mesmo nome e estarem no mesmo diretório (pasta)** para garantir que você consiga trabalhar com ele.\n",
    "\n",
    "**Estrutura de um shapefile**\n",
    "\n",
    "There are 3 key files associated with any and all shapefiles:\n",
    "\n",
    ">.shp: the file that contains the geometry for all features.\n",
    "\n",
    ">.shx: the file that indexes the geometry.\n",
    "\n",
    ">.dbf: the file that stores feature attributes in a tabular format.\n",
    "\n",
    "Sometimes, a shapefile will have other associated files including:\n",
    "\n",
    ">.prj: the file that contains information on projection format including the coordinate system and projection information. It is a plain text file describing the projection using well-known text (WKT) format.\n",
    "\n",
    ">.sbn and .sbx: the files that are a spatial index of the features.\n",
    "\n",
    ">.shp.xml: the file that is the geospatial metadata in XML format, (e.g. ISO 19115 or XML format).\n",
    "\n",
    "##### Aqui utilizaremos a biblioteca geopandas para trabalhar com dados vetorizados em Python e matplotlib.pyplot para plotar nossas visualizações."
   ]
  },
  {
   "cell_type": "code",
   "execution_count": 1,
   "id": "819b0831",
   "metadata": {},
   "outputs": [],
   "source": [
    "#Importando as bibliotecas que vamos utilizar\n",
    "\n",
    "from matplotlib import pyplot as plt\n",
    "import geopandas as gpd\n",
    "import pandas as pd\n",
    "import numpy as np\n",
    "#Biblioteca usada para acessar o diretório\n",
    "from pathlib import Path"
   ]
  },
  {
   "cell_type": "code",
   "execution_count": 3,
   "id": "15ba349f",
   "metadata": {},
   "outputs": [],
   "source": [
    "#Importando o arquivo que vamos usar\n",
    "\n",
    "path = Path(\"Python/shapefile_sp/\")\n",
    "mundo_file = path/\"mundo.shp\""
   ]
  },
  {
   "cell_type": "code",
   "execution_count": 5,
   "id": "35d858c1",
   "metadata": {},
   "outputs": [],
   "source": [
    "sp_data = gpd.read_file(mundo_file)"
   ]
  },
  {
   "cell_type": "code",
   "execution_count": 6,
   "id": "ebc5a9bd",
   "metadata": {},
   "outputs": [],
   "source": [
    "sp_data.shape"
   ]
  },
  {
   "cell_type": "markdown",
   "id": "5a57d405",
   "metadata": {},
   "source": [
    "Nosso conjunto de dados é composto por 3 colunas, sendo uma delas a **geometry** - coluna que apresenta os dados geométricos, nesse caso são polígonos.\n",
    "\n",
    "Além dela temos as colunas:\n",
    "- NM_MUNICIP -> nome dos municípios de SP \n",
    "- CD_GEOCMU -> códigos dos municípios\n",
    "\n",
    "Em shapefiles cada linha da tabela representa um objeto espacial, no nosso caso cada linha é um município do estado de São Paulo."
   ]
  },
  {
   "cell_type": "code",
   "execution_count": null,
   "id": "3cbbcee8",
   "metadata": {},
   "outputs": [],
   "source": [
    "type(sp_data)"
   ]
  },
  {
   "cell_type": "code",
   "execution_count": null,
   "id": "bc3af350",
   "metadata": {},
   "outputs": [],
   "source": [
    "sp_data.total_bounds"
   ]
  },
  {
   "cell_type": "code",
   "execution_count": null,
   "id": "3acd8986",
   "metadata": {},
   "outputs": [],
   "source": [
    "#Verificando o CRS (sistema de coordenadas referenciais)\n",
    "sp_data.crs"
   ]
  },
  {
   "cell_type": "code",
   "execution_count": null,
   "id": "4789823f",
   "metadata": {},
   "outputs": [],
   "source": [
    "sp_data.geometry.head()"
   ]
  },
  {
   "cell_type": "code",
   "execution_count": null,
   "id": "6620322f",
   "metadata": {},
   "outputs": [],
   "source": [
    "#Visualizando o shapefile usando o método plot()\n",
    "fig, ax = plt.subplots(1,1, figsize=(30,15))\n",
    "sp_data.plot(ax=ax, column='NM_MUNICIP');"
   ]
  },
  {
   "cell_type": "markdown",
   "id": "774211c8",
   "metadata": {},
   "source": [
    "##### Manipulando dados no shapefile\n",
    "\n",
    "+ Vamos calcular a área de cada municípo utilizando a função GeoSeries.area que retorna uma serie contendo a área de cada município expressa em unidades de CRS(sistema de coordenada referencial)\n",
    "\n",
    "+ Antes disso precisamos mudar nossa unidade do CRS de graus para para o sistema cartesiano que usa metros²\n",
    "\n"
   ]
  },
  {
   "cell_type": "code",
   "execution_count": null,
   "id": "1a179dbe",
   "metadata": {},
   "outputs": [],
   "source": [
    "#primeiro vamos fazer uma cópia dos arquivos para guardar\n",
    "sp_data_original_data = sp_data.copy()"
   ]
  },
  {
   "cell_type": "code",
   "execution_count": null,
   "id": "e17c10e8",
   "metadata": {},
   "outputs": [],
   "source": [
    "#Agora vamos reescrever o CRS para o CRS desejado. Importante colocar o parâmetro allow_override=True para evitar \n",
    "#erros ao sobreescrever o CRS\n",
    "sp_mun = sp_data.set_crs(epsg=6933, allow_override=True)"
   ]
  },
  {
   "cell_type": "code",
   "execution_count": null,
   "id": "106148ea",
   "metadata": {},
   "outputs": [],
   "source": [
    "#Verificando se o CRS mudou\n",
    "sp_mun.crs"
   ]
  },
  {
   "cell_type": "code",
   "execution_count": null,
   "id": "5b709248",
   "metadata": {},
   "outputs": [],
   "source": [
    "#Com o nosso sistema de coordenadas referenciais modificado, é hora de calcular a área dos municípios\n",
    "#Dividindo por 10⁶ porque .area retorna em metros².\n",
    "\n",
    "sp_mun.area"
   ]
  },
  {
   "cell_type": "code",
   "execution_count": null,
   "id": "20408a71",
   "metadata": {},
   "outputs": [],
   "source": [
    "#Criando uma variável no shapefile para armazenar as áreas calculadas\n",
    "sp_mun['Area'] = sp_mun.area/10e6"
   ]
  },
  {
   "cell_type": "code",
   "execution_count": null,
   "id": "0c24a399",
   "metadata": {},
   "outputs": [],
   "source": [
    "sp_mun.head()"
   ]
  },
  {
   "cell_type": "code",
   "execution_count": null,
   "id": "dcc79534",
   "metadata": {},
   "outputs": [],
   "source": [
    "#Unindo dois arquivos de shapefile \n",
    "\n",
    "#Importando o outro arquivos que vamos usar\n",
    "\n",
    "path = Path(\"Python/shapefile_mundo/\")\n",
    "mundo_file = path/\"mundo.shp\""
   ]
  },
  {
   "cell_type": "code",
   "execution_count": null,
   "id": "4340b8d6",
   "metadata": {},
   "outputs": [],
   "source": [
    "mundo_data = gpd.read_file(mundo_file,  encoding='latin1')"
   ]
  },
  {
   "cell_type": "code",
   "execution_count": null,
   "id": "f7b51388",
   "metadata": {},
   "outputs": [],
   "source": [
    "mundo_data.head()"
   ]
  },
  {
   "cell_type": "code",
   "execution_count": null,
   "id": "9917d7f4",
   "metadata": {},
   "outputs": [],
   "source": [
    "#Unindo os dois dataframes (sp_mun e mundo_data)\n",
    "\n",
    "data_unificado = gpd.GeoDataFrame(pd.concat([sp_mun, mundo_data]))"
   ]
  },
  {
   "cell_type": "code",
   "execution_count": null,
   "id": "ff36d5cf",
   "metadata": {},
   "outputs": [],
   "source": [
    "data_unificado.head()"
   ]
  },
  {
   "cell_type": "code",
   "execution_count": null,
   "id": "78e8764b",
   "metadata": {},
   "outputs": [],
   "source": [
    "#Salvando um shapefile \n",
    "output = \"~/Python/municipios_sp_finalizado.shp\"\n",
    "\n",
    "sp_mun.to_file(output)"
   ]
  },
  {
   "cell_type": "markdown",
   "id": "4588c026",
   "metadata": {},
   "source": [
    "#### Trabalhando com outro shapefile\n"
   ]
  },
  {
   "cell_type": "code",
   "execution_count": null,
   "id": "7d3ba643",
   "metadata": {},
   "outputs": [],
   "source": [
    "#Importando o arquivo\n",
    "\n",
    "path_file = \"~/Python/shapefile_mundo/\"\n",
    "\n",
    "mundo_file = path/\"mundo.shp\""
   ]
  },
  {
   "cell_type": "code",
   "execution_count": null,
   "id": "e835d29a",
   "metadata": {},
   "outputs": [],
   "source": [
    "mundo_df = gpd.read_file(mundo_file)"
   ]
  },
  {
   "cell_type": "code",
   "execution_count": null,
   "id": "a74e46d6",
   "metadata": {},
   "outputs": [],
   "source": [
    "#plotando o objeto\n",
    "fig, ax = plt.subplots(1,1, figsize=(15,15))\n",
    "mundo_data.plot(ax=ax);"
   ]
  },
  {
   "cell_type": "code",
   "execution_count": null,
   "id": "3c751255",
   "metadata": {},
   "outputs": [],
   "source": [
    "mundo_data.head()"
   ]
  },
  {
   "cell_type": "code",
   "execution_count": null,
   "id": "c55bc78d",
   "metadata": {},
   "outputs": [],
   "source": [
    "mundo_data.shape"
   ]
  },
  {
   "cell_type": "code",
   "execution_count": null,
   "id": "4926ddec",
   "metadata": {},
   "outputs": [],
   "source": [
    "#Selecionando apenas os paises da américa do sul \n",
    "south_america = mundo_data.loc[mundo_data['contnnt'] == 'South America']"
   ]
  },
  {
   "cell_type": "code",
   "execution_count": null,
   "id": "56d717ec",
   "metadata": {},
   "outputs": [],
   "source": [
    "south_america.head()"
   ]
  },
  {
   "cell_type": "code",
   "execution_count": null,
   "id": "84827925",
   "metadata": {},
   "outputs": [],
   "source": [
    "#Plotando os países da América do Sul\n",
    "fig, ax = plt.subplots(1,1, figsize=(15,10))\n",
    "south_america.plot(ax=ax);"
   ]
  },
  {
   "cell_type": "code",
   "execution_count": null,
   "id": "ff52f0cd",
   "metadata": {},
   "outputs": [],
   "source": [
    "#Vamos criar agora uma combinação de shapefiles usando as bases de dados da pasta Mercosul\n",
    "\n",
    "#Primeiro vamos importar os shapefiles\n",
    "path = Path(\"~/Python/shapefile_mercosul/\")\n",
    "\n",
    "brasil = path/\"brasil_shapefile.shp\"\n",
    "argentina = path/\"argentina_shapefile.shp\"\n",
    "paraguai = path/\"paraguai_shapefile.shp\"\n",
    "venezuela = path/\"venezuela_shapefile.shp\""
   ]
  },
  {
   "cell_type": "code",
   "execution_count": null,
   "id": "ed6725f3",
   "metadata": {},
   "outputs": [],
   "source": [
    "#Carregando os arquivos dentro de um geodataframe\n",
    "brasil_df = gpd.read_file(brasil)\n",
    "argentina_df = gpd.read_file(argentina)\n",
    "paraguai_df = gpd.read_file(paraguai)\n",
    "venezuela_df = gpd.read_file(venezuela)"
   ]
  },
  {
   "cell_type": "code",
   "execution_count": null,
   "id": "ed013e94",
   "metadata": {},
   "outputs": [],
   "source": [
    "brasil_df.shape, argentina_df.shape"
   ]
  },
  {
   "cell_type": "code",
   "execution_count": null,
   "id": "ba8f7ef3",
   "metadata": {},
   "outputs": [],
   "source": [
    "paraguai_df.shape, venezuela_df.shape"
   ]
  },
  {
   "cell_type": "code",
   "execution_count": null,
   "id": "efa39f47",
   "metadata": {},
   "outputs": [],
   "source": [
    "venezuela_df.head()"
   ]
  },
  {
   "cell_type": "code",
   "execution_count": null,
   "id": "24911140",
   "metadata": {},
   "outputs": [],
   "source": [
    "#Concatenando os geodataframes\n",
    "mercosul_df = pd.concat([brasil_df,  argentina_df, paraguai_df, venezuela_df])"
   ]
  },
  {
   "cell_type": "code",
   "execution_count": null,
   "id": "7beaeace",
   "metadata": {},
   "outputs": [],
   "source": [
    "mercosul_df.shape"
   ]
  },
  {
   "cell_type": "code",
   "execution_count": null,
   "id": "0136553a",
   "metadata": {},
   "outputs": [],
   "source": [
    "mercosul_df.head()"
   ]
  },
  {
   "cell_type": "code",
   "execution_count": null,
   "id": "3de60900",
   "metadata": {},
   "outputs": [],
   "source": [
    "#Visualziando os dados\n",
    "fig,ax = plt.subplots(1,1, figsize=(15,15))\n",
    "mercosul_df.plot(ax=ax);"
   ]
  },
  {
   "cell_type": "code",
   "execution_count": null,
   "id": "70a285c3",
   "metadata": {},
   "outputs": [],
   "source": []
  },
  {
   "cell_type": "code",
   "execution_count": null,
   "id": "5369b094",
   "metadata": {},
   "outputs": [],
   "source": []
  },
  {
   "cell_type": "code",
   "execution_count": null,
   "id": "7cbd6cfa",
   "metadata": {},
   "outputs": [],
   "source": []
  },
  {
   "cell_type": "markdown",
   "id": "44e0d605",
   "metadata": {},
   "source": [
    "# Referências\n",
    "\n",
    "* Parte inicial de dados geoespaciais estou usando esse tutorial\n",
    "\n",
    "> https://sustainability-gis.readthedocs.io/en/latest/lessons/L1/intro-to-python-geostack.html\n",
    "\n",
    "* Tutorias para trabalhar com Shapefile\n",
    "\n",
    "> Início bem importante para pegar a teoria inicial - guillaumedueymes.com/post/shapefiles_in_python/\n",
    "\n",
    "\n",
    "\n",
    ">Esse aqui tem vários exemplos de plotagem - https://www.earthdatascience.org/workshops/gis-open-source-python/intro-vector-data-python/\n",
    "\n",
    "> Tutorial **Intro to Python GIS** - https://automating-gis-processes.github.io/CSC/notebooks/L2/projections.html"
   ]
  },
  {
   "cell_type": "code",
   "execution_count": null,
   "id": "f4c17275",
   "metadata": {},
   "outputs": [],
   "source": []
  }
 ],
 "metadata": {
  "kernelspec": {
   "display_name": "Python 3",
   "language": "python",
   "name": "python3"
  },
  "language_info": {
   "codemirror_mode": {
    "name": "ipython",
    "version": 3
   },
   "file_extension": ".py",
   "mimetype": "text/x-python",
   "name": "python",
   "nbconvert_exporter": "python",
   "pygments_lexer": "ipython3",
   "version": "3.9.5"
  }
 },
 "nbformat": 4,
 "nbformat_minor": 5
}
